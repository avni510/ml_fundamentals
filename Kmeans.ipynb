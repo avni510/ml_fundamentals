{
 "cells": [
  {
   "cell_type": "code",
   "execution_count": 1,
   "id": "fd0b3591-1d01-40b5-bda3-1c422d08aa77",
   "metadata": {},
   "outputs": [],
   "source": [
    "import numpy as np"
   ]
  },
  {
   "cell_type": "code",
   "execution_count": 2,
   "id": "d8e5c529-918a-43ce-86e4-1d7f62e077ed",
   "metadata": {},
   "outputs": [],
   "source": [
    "class KMeans:\n",
    "    def __init__(self, k, n_iters):\n",
    "        self.k = k\n",
    "        self.n_iters = n_iters\n",
    "\n",
    "    # returns a matrix of eucludian distance values\n",
    "    def _dist(self, centroid, X):\n",
    "        return np.sqrt(np.sum((X - centroid)**2, axis = 1))\n",
    "\n",
    "    def _get_assignments(self, centroids, X):\n",
    "        #find dist for each from to the centroid\n",
    "        euc_dists = []\n",
    "        for centroid in centroids:\n",
    "            euc_dists.append(self._dist(centroid, X))\n",
    "\n",
    "        assignments = []\n",
    "        for i in range(X.shape[0]):\n",
    "            euc_dists_i = np.round([dist_mat[i] for dist_mat in euc_dists], 8)\n",
    "            closest_centroid = np.argmin(euc_dists_i)\n",
    "            assignments.append(closest_centroid)\n",
    "        return np.array(assignments)\n",
    "\n",
    "    def fit(self, X):\n",
    "        # randomly choose centroids\n",
    "        idxs = np.random.choice(len(X), self.k, replace=False)\n",
    "        centroids = X[idxs]\n",
    "        assignments = self._get_assignments(centroids, X)\n",
    "\n",
    "        # repeat\n",
    "        for _ in range(self.n_iters):\n",
    "            # update centroids\n",
    "            centroids = [X[assignments == i].mean(0) for i in range(self.k)]\n",
    "            \n",
    "            centroids = np.vstack(centroids)\n",
    "            assignments = self._get_assignments(centroids, X)\n",
    "\n",
    "        return assignments "
   ]
  },
  {
   "cell_type": "code",
   "execution_count": 3,
   "id": "bf752c0e-2e51-4824-b19b-fb25d4d724e9",
   "metadata": {},
   "outputs": [],
   "source": [
    "K=3\n",
    "center_1 = np.array([1,1])\n",
    "center_2 = np.array([5,5])\n",
    "center_3 = np.array([8,1])\n",
    "\n",
    "# Generate random data and center it to the three centers\n",
    "cluster_1 = np.random.randn(100, 2) + center_1\n",
    "cluster_2 = np.random.randn(100,2) + center_2\n",
    "cluster_3 = np.random.randn(100,2) + center_3\n",
    "\n",
    "X = np.concatenate((cluster_1, cluster_2, cluster_3), axis = 0)"
   ]
  },
  {
   "cell_type": "code",
   "execution_count": 4,
   "id": "5047194d-b756-40ad-8933-0386dcd31a3d",
   "metadata": {},
   "outputs": [
    {
     "data": {
      "text/plain": [
       "array([2, 2, 2, 2, 2, 2, 2, 2, 2, 2, 2, 2, 2, 2, 2, 2, 2, 2, 2, 2, 2, 2,\n",
       "       2, 2, 2, 2, 2, 2, 2, 2, 2, 2, 2, 2, 2, 2, 2, 2, 2, 2, 2, 2, 2, 2,\n",
       "       2, 2, 2, 2, 2, 2, 2, 2, 2, 2, 2, 2, 2, 2, 2, 2, 2, 2, 2, 2, 2, 2,\n",
       "       2, 2, 2, 2, 2, 2, 2, 2, 2, 2, 2, 2, 2, 2, 2, 2, 2, 2, 2, 2, 2, 2,\n",
       "       2, 2, 2, 2, 2, 2, 2, 2, 2, 2, 2, 2, 1, 1, 1, 1, 1, 1, 1, 1, 1, 1,\n",
       "       1, 1, 1, 1, 1, 1, 1, 1, 1, 1, 1, 1, 1, 1, 1, 1, 1, 1, 1, 1, 1, 1,\n",
       "       1, 1, 1, 1, 1, 1, 1, 1, 1, 1, 1, 1, 1, 1, 1, 1, 1, 1, 1, 1, 1, 1,\n",
       "       1, 1, 1, 1, 0, 1, 1, 1, 1, 1, 1, 1, 1, 2, 1, 1, 1, 1, 1, 1, 1, 1,\n",
       "       1, 1, 1, 1, 1, 1, 1, 1, 1, 1, 1, 1, 1, 1, 1, 1, 1, 1, 1, 1, 1, 1,\n",
       "       1, 1, 0, 0, 0, 0, 1, 0, 0, 0, 0, 0, 0, 0, 0, 0, 0, 0, 0, 0, 0, 0,\n",
       "       0, 0, 0, 0, 0, 0, 0, 0, 0, 0, 0, 0, 0, 0, 0, 0, 0, 0, 0, 0, 0, 0,\n",
       "       0, 0, 0, 0, 0, 0, 0, 0, 0, 0, 0, 0, 0, 0, 0, 0, 0, 0, 0, 0, 0, 0,\n",
       "       0, 0, 0, 0, 0, 0, 0, 0, 0, 0, 0, 0, 0, 0, 0, 0, 0, 0, 0, 0, 0, 0,\n",
       "       0, 0, 0, 0, 0, 0, 0, 0, 0, 0, 0, 0, 0, 0])"
      ]
     },
     "execution_count": 4,
     "metadata": {},
     "output_type": "execute_result"
    }
   ],
   "source": [
    "kmeans = KMeans(K, 100)\n",
    "kmeans.fit(X)"
   ]
  }
 ],
 "metadata": {
  "kernelspec": {
   "display_name": "Python 3 (ipykernel)",
   "language": "python",
   "name": "python3"
  },
  "language_info": {
   "codemirror_mode": {
    "name": "ipython",
    "version": 3
   },
   "file_extension": ".py",
   "mimetype": "text/x-python",
   "name": "python",
   "nbconvert_exporter": "python",
   "pygments_lexer": "ipython3",
   "version": "3.11.5"
  }
 },
 "nbformat": 4,
 "nbformat_minor": 5
}
