{
 "cells": [
  {
   "cell_type": "code",
   "execution_count": 2,
   "id": "df91bfa5-5aab-4f75-b6cb-2748b4f8bd5f",
   "metadata": {},
   "outputs": [],
   "source": [
    "import numpy as np\n",
    "from sklearn import metrics"
   ]
  },
  {
   "cell_type": "code",
   "execution_count": 5,
   "id": "644aedab-e3c2-40b0-a240-6040703599ed",
   "metadata": {},
   "outputs": [
    {
     "data": {
      "text/plain": [
       "array([[1., 0., 0., 0., 0., 0.],\n",
       "       [1., 0., 0., 0., 0., 0.],\n",
       "       [1., 0., 0., 0., 0., 0.],\n",
       "       [1., 0., 0., 0., 0., 0.],\n",
       "       [1., 0., 0., 0., 0., 0.],\n",
       "       [1., 0., 0., 0., 0., 0.],\n",
       "       [1., 0., 0., 0., 0., 0.],\n",
       "       [1., 0., 0., 0., 0., 0.],\n",
       "       [1., 0., 0., 0., 0., 0.],\n",
       "       [1., 0., 0., 0., 0., 0.]])"
      ]
     },
     "execution_count": 5,
     "metadata": {},
     "output_type": "execute_result"
    }
   ],
   "source": [
    "ones = np.ones((10, 1))\n",
    "X = np.zeros((10, 5))\n",
    "np.hstack((ones, X))"
   ]
  },
  {
   "cell_type": "code",
   "execution_count": 2,
   "id": "3b87428c-ae42-474b-a942-5e8210a1f2c9",
   "metadata": {},
   "outputs": [
    {
     "data": {
      "text/plain": [
       "array([[0., 0., 0., 0., 0., 0., 0., 0., 0., 0.]])"
      ]
     },
     "execution_count": 2,
     "metadata": {},
     "output_type": "execute_result"
    }
   ],
   "source": [
    "np.zeros((1, 10))"
   ]
  },
  {
   "cell_type": "code",
   "execution_count": 3,
   "id": "0f6624a3-579a-473f-a5b9-2f876877cda7",
   "metadata": {},
   "outputs": [],
   "source": [
    "# solved with gradient descent\n",
    "class LinearRegression:\n",
    "    def __init__(self, lr=.001, n_iters=1000):\n",
    "        self.lr = lr\n",
    "        self.n_iters=n_iters\n",
    "        self.weights = None\n",
    "        self.bias = None\n",
    "\n",
    "    def fit(self, X, y):\n",
    "        n_samples, n_features = X.shape\n",
    "        # initialize weights to 0\n",
    "        self.weights = np.zeros((1, n_features))\n",
    "        # initialize bias to 0\n",
    "        self.bias = 0\n",
    "        \n",
    "\n",
    "        # loss is mse\n",
    "        # loss = 1/ n * sum((Y - (Xw + b))^2)\n",
    "        \n",
    "        # dloss / dw = 1/n * 2 * (Y - (Xw + b)) * -X, summation is taken care of when doing matrix multiplication\n",
    "        \n",
    "        # dloss / db = 1/n * sum(2 * (Y - (Xw + b)) * -1 ) \n",
    "        for i in range(self.n_iters):\n",
    "            y_pred = X @ self.weights.T + self.bias\n",
    "            loss = (1/ n_samples) * np.sum((y - y_pred) ** 2, axis=0)[0]\n",
    "            if i % 50 == 0:\n",
    "                print(\"Loss\")\n",
    "                print(loss)\n",
    "                print(metrics.mean_squared_error(y, y_pred))\n",
    "\n",
    "            dw = (-2/n_samples) * ((y - y_pred).T @ X)\n",
    "            assert dw.shape == self.weights.shape\n",
    "            \n",
    "            db = (-2/n_samples) * np.sum((y - y_pred), axis = 0)\n",
    "  \n",
    "            self.weights = self.weights - self.lr * dw\n",
    "            self.bias = self.bias - self.lr * db\n",
    "\n",
    "    def predict(self, X):\n",
    "        return  X @ self.weights.T + self.bias"
   ]
  },
  {
   "cell_type": "code",
   "execution_count": 4,
   "id": "7faaf764-dfff-42bd-a5b1-1db066ad3456",
   "metadata": {},
   "outputs": [],
   "source": [
    "from sklearn import datasets\n",
    "X, y = datasets.make_regression(n_samples=100, n_features=10, noise=20, random_state=4)\n",
    "y = np.expand_dims(y, axis= 0).T"
   ]
  },
  {
   "cell_type": "code",
   "execution_count": 5,
   "id": "46fcda4d-77ff-4c0f-979d-251458348280",
   "metadata": {},
   "outputs": [
    {
     "name": "stdout",
     "output_type": "stream",
     "text": [
      "Loss\n",
      "25640.51320677017\n",
      "25640.513206770167\n",
      "Loss\n",
      "21862.964891331932\n",
      "21862.964891331932\n",
      "Loss\n",
      "18719.73351152451\n",
      "18719.73351152451\n",
      "Loss\n",
      "16094.70728904714\n",
      "16094.70728904714\n",
      "Loss\n",
      "13894.394478303657\n",
      "13894.394478303657\n",
      "Loss\n",
      "12043.301499169798\n",
      "12043.301499169796\n",
      "Loss\n",
      "10480.29422290567\n",
      "10480.29422290567\n",
      "Loss\n",
      "9155.725488942928\n",
      "9155.725488942928\n",
      "Loss\n",
      "8029.1614506801525\n",
      "8029.1614506801525\n",
      "Loss\n",
      "7067.577203749775\n",
      "7067.577203749775\n",
      "Loss\n",
      "6243.92116628464\n",
      "6243.921166284639\n",
      "Loss\n",
      "5535.969982135887\n",
      "5535.969982135887\n",
      "Loss\n",
      "4925.412905698134\n",
      "4925.412905698134\n",
      "Loss\n",
      "4397.117910041161\n",
      "4397.117910041161\n",
      "Loss\n",
      "3938.5420536996994\n",
      "3938.5420536996994\n",
      "Loss\n",
      "3539.256640298384\n",
      "3539.256640298384\n",
      "Loss\n",
      "3190.5639375908736\n",
      "3190.5639375908736\n",
      "Loss\n",
      "2885.18709149729\n",
      "2885.18709149729\n",
      "Loss\n",
      "2617.0186845401267\n",
      "2617.0186845401267\n",
      "Loss\n",
      "2380.916383027586\n",
      "2380.916383027586\n"
     ]
    }
   ],
   "source": [
    "mdl = LinearRegression()\n",
    "mdl.fit(X, y)"
   ]
  }
 ],
 "metadata": {
  "kernelspec": {
   "display_name": "Python 3 (ipykernel)",
   "language": "python",
   "name": "python3"
  },
  "language_info": {
   "codemirror_mode": {
    "name": "ipython",
    "version": 3
   },
   "file_extension": ".py",
   "mimetype": "text/x-python",
   "name": "python",
   "nbconvert_exporter": "python",
   "pygments_lexer": "ipython3",
   "version": "3.11.5"
  }
 },
 "nbformat": 4,
 "nbformat_minor": 5
}
