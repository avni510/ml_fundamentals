{
 "cells": [
  {
   "cell_type": "code",
   "execution_count": 1,
   "id": "5c180b9d-4816-421f-a89b-17d0707eb164",
   "metadata": {},
   "outputs": [],
   "source": [
    "import torch"
   ]
  },
  {
   "cell_type": "code",
   "execution_count": 5,
   "id": "126836b3-c379-4545-b89e-22047a66688c",
   "metadata": {},
   "outputs": [],
   "source": [
    "\"\"\"\n",
    "Multiples an input by the kernel\n",
    "X: input\n",
    "K: kernel\n",
    "\n",
    "\"\"\"\n",
    "def corr2d(X, K):\n",
    "    h, w = K.shape\n",
    "    # this is a formula to calculate the output \n",
    "    output = torch.zeros((X.shape[0] - h + 1, X.shape[1] - w + 1))\n",
    "    # fill each number in the output with element-wise multiplication\n",
    "    for i in range(output.shape[0]):\n",
    "        for j in range(output.shape[1]):\n",
    "            input_to_multiply = X[i:i+h, j:j+w]\n",
    "            output[i, j] = (input_to_multiply * K).sum()\n",
    "    return output"
   ]
  },
  {
   "cell_type": "code",
   "execution_count": 6,
   "id": "d15e235b-e742-4256-b696-3be6f444979c",
   "metadata": {},
   "outputs": [
    {
     "data": {
      "text/plain": [
       "tensor([[19., 25.],\n",
       "        [37., 43.]])"
      ]
     },
     "execution_count": 6,
     "metadata": {},
     "output_type": "execute_result"
    }
   ],
   "source": [
    "X = torch.tensor([[0.0, 1.0, 2.0], [3.0, 4.0, 5.0], [6.0, 7.0, 8.0]])\n",
    "K = torch.tensor([[0.0, 1.0], [2.0, 3.0]])\n",
    "corr2d(X, K)"
   ]
  },
  {
   "cell_type": "code",
   "execution_count": 9,
   "id": "364f6337-0a57-452a-b75e-80e9fd8a5694",
   "metadata": {},
   "outputs": [
    {
     "data": {
      "text/plain": [
       "tensor([0.])"
      ]
     },
     "execution_count": 9,
     "metadata": {},
     "output_type": "execute_result"
    }
   ],
   "source": [
    "\"\"\"\n",
    "a convolutional layer performs corr2d and adds in the bias term\n",
    "kernel size: shape of the kernel\n",
    "\"\"\"\n",
    "class Conv2D(nn.Module):\n",
    "    def __init__(self, kernel_size):\n",
    "        super().__init__()\n",
    "        self.weight = nn.Parameter(torch.rand(kernel_size))\n",
    "        self.bias = nn.Parameter(torch.rand(torch.zeros(1))\n",
    "                             \n",
    "    def forward(self, x):\n",
    "        return corr2d(x, self.weight) + self.bias "
   ]
  }
 ],
 "metadata": {
  "kernelspec": {
   "display_name": "Python 3 (ipykernel)",
   "language": "python",
   "name": "python3"
  },
  "language_info": {
   "codemirror_mode": {
    "name": "ipython",
    "version": 3
   },
   "file_extension": ".py",
   "mimetype": "text/x-python",
   "name": "python",
   "nbconvert_exporter": "python",
   "pygments_lexer": "ipython3",
   "version": "3.11.5"
  }
 },
 "nbformat": 4,
 "nbformat_minor": 5
}
