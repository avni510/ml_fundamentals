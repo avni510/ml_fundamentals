{
 "cells": [
  {
   "cell_type": "code",
   "execution_count": 1,
   "id": "5c180b9d-4816-421f-a89b-17d0707eb164",
   "metadata": {},
   "outputs": [],
   "source": [
    "import torch"
   ]
  },
  {
   "cell_type": "code",
   "execution_count": 5,
   "id": "126836b3-c379-4545-b89e-22047a66688c",
   "metadata": {},
   "outputs": [],
   "source": [
    "\"\"\"\n",
    "Multiples an input by the kernel (1 channel)\n",
    "X: input\n",
    "K: kernel\n",
    "\n",
    "\"\"\"\n",
    "def corr2d(X, K):\n",
    "    h, w = K.shape\n",
    "    # this is a formula to calculate the output \n",
    "    feature_map = torch.zeros((X.shape[0] - h + 1, X.shape[1] - w + 1))\n",
    "    # fill each number in the output with element-wise multiplication\n",
    "    for i in range(output.shape[0]):\n",
    "        for j in range(output.shape[1]):\n",
    "            input_to_multiply = X[i:i+h, j:j+w]\n",
    "            feature_map[i, j] = (input_to_multiply * K).sum()\n",
    "    return feature_map"
   ]
  },
  {
   "cell_type": "code",
   "execution_count": 6,
   "id": "d15e235b-e742-4256-b696-3be6f444979c",
   "metadata": {},
   "outputs": [
    {
     "data": {
      "text/plain": [
       "tensor([[19., 25.],\n",
       "        [37., 43.]])"
      ]
     },
     "execution_count": 6,
     "metadata": {},
     "output_type": "execute_result"
    }
   ],
   "source": [
    "X = torch.tensor([[0.0, 1.0, 2.0], [3.0, 4.0, 5.0], [6.0, 7.0, 8.0]])\n",
    "K = torch.tensor([[0.0, 1.0], [2.0, 3.0]])\n",
    "corr2d(X, K)"
   ]
  },
  {
   "cell_type": "code",
   "execution_count": 9,
   "id": "364f6337-0a57-452a-b75e-80e9fd8a5694",
   "metadata": {},
   "outputs": [
    {
     "data": {
      "text/plain": [
       "tensor([0.])"
      ]
     },
     "execution_count": 9,
     "metadata": {},
     "output_type": "execute_result"
    }
   ],
   "source": [
    "\"\"\"\n",
    "a convolutional layer performs corr2d and adds in the bias term\n",
    "kernel size: shape of the kernel\n",
    "\"\"\"\n",
    "class Conv2D(nn.Module):\n",
    "    def __init__(self, kernel_size):\n",
    "        super().__init__()\n",
    "        self.weight = nn.Parameter(torch.rand(kernel_size))\n",
    "        self.bias = nn.Parameter(torch.rand(torch.zeros(1))\n",
    "                             \n",
    "    def forward(self, x):\n",
    "        return corr2d(x, self.weight) + self.bias "
   ]
  },
  {
   "cell_type": "code",
   "execution_count": 10,
   "id": "1a899c49-f00c-4ca1-b4cd-6019fe0f6eae",
   "metadata": {},
   "outputs": [
    {
     "data": {
      "text/plain": [
       "tensor([[ 56.,  72.],\n",
       "        [104., 120.]])"
      ]
     },
     "execution_count": 10,
     "metadata": {},
     "output_type": "execute_result"
    }
   ],
   "source": [
    "\"\"\"\n",
    "Multiples an input by the kernel (multi channel)\n",
    "X: input\n",
    "K: kernel\n",
    "\n",
    "\"\"\"\n",
    "def corr2d_multi_in(X, K):\n",
    "    # multiplies each channel by a kernel, then sums up the results so we end up with one channel\n",
    "    return sum(corr2d(x, k) for x, k in zip(X, K))\n",
    "\n",
    "X = torch.tensor([[[0.0, 1.0, 2.0], [3.0, 4.0, 5.0], [6.0, 7.0, 8.0]],\n",
    "               [[1.0, 2.0, 3.0], [4.0, 5.0, 6.0], [7.0, 8.0, 9.0]]])\n",
    "K = torch.tensor([[[0.0, 1.0], [2.0, 3.0]], [[1.0, 2.0], [3.0, 4.0]]])\n",
    "\n",
    "corr2d_multi_in(X, K)"
   ]
  },
  {
   "cell_type": "code",
   "execution_count": 15,
   "id": "de12ceee-321a-4b69-9c2b-89e7e91ce5ec",
   "metadata": {},
   "outputs": [
    {
     "data": {
      "text/plain": [
       "[torch.Size([2, 2]), torch.Size([2, 2])]"
      ]
     },
     "execution_count": 15,
     "metadata": {},
     "output_type": "execute_result"
    }
   ],
   "source": [
    "[k.shape for k in K]"
   ]
  }
 ],
 "metadata": {
  "kernelspec": {
   "display_name": "Python 3 (ipykernel)",
   "language": "python",
   "name": "python3"
  },
  "language_info": {
   "codemirror_mode": {
    "name": "ipython",
    "version": 3
   },
   "file_extension": ".py",
   "mimetype": "text/x-python",
   "name": "python",
   "nbconvert_exporter": "python",
   "pygments_lexer": "ipython3",
   "version": "3.11.5"
  }
 },
 "nbformat": 4,
 "nbformat_minor": 5
}
